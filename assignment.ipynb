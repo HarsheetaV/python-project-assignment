{
  "nbformat": 4,
  "nbformat_minor": 0,
  "metadata": {
    "colab": {
      "provenance": []
    },
    "kernelspec": {
      "name": "python3",
      "display_name": "Python 3"
    },
    "language_info": {
      "name": "python"
    }
  },
  "cells": [
    {
      "cell_type": "markdown",
      "source": [
        "Assignment for Tools of Data Science"
      ],
      "metadata": {
        "id": "et2YMmirnU1f"
      }
    },
    {
      "cell_type": "markdown",
      "source": [
        "## Introduction\n",
        "\n",
        "Welcome to this Data Science notebook! In this notebook, I will explore various data science concepts and perform analysis using Python.\n"
      ],
      "metadata": {
        "id": "ADQKL9tmnVR2"
      }
    },
    {
      "cell_type": "markdown",
      "source": [
        "## Data Science Languages\n",
        "\n",
        "- Python\n",
        "- R\n",
        "- Julia"
      ],
      "metadata": {
        "id": "rIb9Su3-nVX0"
      }
    },
    {
      "cell_type": "markdown",
      "source": [
        "## Data Science Libraries\n",
        "\n",
        "- NumPy\n",
        "- Pandas\n",
        "- Scikit-learn\n",
        "- TensorFlow\n",
        "- PyTorch\n",
        "- Matplotlib\n",
        "- Seaborn\n"
      ],
      "metadata": {
        "id": "YuJfaxGXnVbL"
      }
    },
    {
      "cell_type": "markdown",
      "source": [
        "## Data Science Tools\n",
        "\n",
        "| Category       | Tools                      |\n",
        "|----------------|----------------------------|\n",
        "| Data Wrangling | Pandas, dplyr              |\n",
        "| Data Cleaning  | OpenRefine, DataWrangler   |\n",
        "| Visualization  | Matplotlib, Seaborn, ggplot|\n",
        "| Machine Learning| Scikit-learn, TensorFlow   |\n",
        "| Big Data       | Apache Spark, Hadoop       |\n",
        "| Notebooks      | Jupyter Notebook, RStudio  |\n"
      ],
      "metadata": {
        "id": "Q_m2KWsRnVe2"
      }
    },
    {
      "cell_type": "markdown",
      "source": [
        "## Arithmetic Expression Examples\n",
        "\n",
        "Arithmetic expressions involve basic mathematical operations such as addition, subtraction, multiplication, and division.\n",
        "\n",
        "I will explore multiplication and addition in the cells below\n"
      ],
      "metadata": {
        "id": "-gFF7gUznVh9"
      }
    },
    {
      "cell_type": "code",
      "source": [
        "# Multiply two numbers\n",
        "num1 = 2\n",
        "num2 = 10\n",
        "result_multiply = num1 * num2\n",
        "print(\"Multiplication result:\", result_multiply)\n",
        "\n",
        "# Add two numbers\n",
        "num3 = 5\n",
        "num4 = 20\n",
        "result_add = num3 + num4\n",
        "print(\"Addition result:\", result_add)"
      ],
      "metadata": {
        "colab": {
          "base_uri": "https://localhost:8080/"
        },
        "id": "6uqpH8OUoV_0",
        "outputId": "2d299456-3959-4ff9-b064-737089dbebf9"
      },
      "execution_count": 1,
      "outputs": [
        {
          "output_type": "stream",
          "name": "stdout",
          "text": [
            "Multiplication result: 20\n",
            "Addition result: 25\n"
          ]
        }
      ]
    },
    {
      "cell_type": "code",
      "source": [
        "def convert_minutes_to_hours(minutes):\n",
        "    hours = minutes / 60\n",
        "    return hours\n",
        "\n",
        "# Testing the function\n",
        "minutes = 120\n",
        "hours_result = convert_minutes_to_hours(minutes)\n",
        "print(f\"{minutes} minutes is equal to {hours_result:.2f} hours.\")\n"
      ],
      "metadata": {
        "colab": {
          "base_uri": "https://localhost:8080/"
        },
        "id": "kkfSvOLLocOQ",
        "outputId": "c5fb017a-185d-45b0-c7e9-92456290a57e"
      },
      "execution_count": 4,
      "outputs": [
        {
          "output_type": "stream",
          "name": "stdout",
          "text": [
            "120 minutes is equal to 2.00 hours.\n"
          ]
        }
      ]
    },
    {
      "cell_type": "markdown",
      "source": [
        "## Objectives\n",
        "\n",
        "- To Explore various data science languages and libraries.\n",
        "- To learn about essential data science tools and their applications.\n",
        "- To Perform basic arithmetic operations and understand numerical calculations in Python.\n"
      ],
      "metadata": {
        "id": "9yUQ9ziNnVn8"
      }
    },
    {
      "cell_type": "markdown",
      "source": [
        "**Author: Harshita**\n"
      ],
      "metadata": {
        "id": "ne3Pf8aKnVrV"
      }
    }
  ]
}